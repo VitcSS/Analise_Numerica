{
 "cells": [
  {
   "cell_type": "code",
   "execution_count": 1,
   "source": [
    "import matplotlib.pyplot as plt\r\n",
    "import numpy as np"
   ],
   "outputs": [],
   "metadata": {}
  },
  {
   "cell_type": "code",
   "execution_count": 12,
   "source": [
    "\r\n",
    "X = np.array([1,2,3,4])\r\n",
    "Y = np.array([3,5,6,8])\r\n",
    "digits = int(input(\"Insert precision:\"))\r\n",
    "# Mean X and Y\r\n",
    "mean_x = np.mean(X)\r\n",
    "mean_y = np.mean(Y)\r\n",
    "print(\"means :\")\r\n",
    "print(\"X = \", mean_x)\r\n",
    "print(\"Y = \", mean_y)\r\n",
    "# Total number of values\r\n",
    "n = len(X)\r\n",
    "\r\n",
    "# Using the formula to calculate 'm' and 'c'\r\n",
    "numer = 0\r\n",
    "op_num = \"\"\r\n",
    "denom = 0\r\n",
    "op_dem = \"\"\r\n",
    "for i in range(n):\r\n",
    "    numer += round((X[i] - mean_x) * (Y[i] - mean_y),digits)\r\n",
    "    op_num +=\"+(\"+str(X[i])+\" - \"+str(mean_x)+\")*(\"+str(Y[i])+\" - \"+str(mean_y)+\")\"\r\n",
    "    denom += round((X[i] - mean_x) ** 2,digits)\r\n",
    "    op_dem += \" + (\"+str(X[i])+\" - \"+str(mean_x)+\")**2\"\r\n",
    "m = round(numer / denom, digits)\r\n",
    "c = round(mean_y - (m * mean_x),digits)\r\n",
    "print(\"num = \",op_num,\"=\",numer)\r\n",
    "print(\"dem = \",op_dem,\"=\",denom)\r\n",
    "print(\"m = \"+str(numer)+\"/\"+str(denom),\" = \", m)\r\n",
    "print(\"c = \",mean_y,\"-\",m,\"*\",mean_x, \" = \",c)\r\n",
    "# Printing coefficients\r\n",
    "print(\"Coefficients\")\r\n",
    "print(m, c)\r\n",
    "\r\n",
    "# Calculating R2 Score\r\n",
    "ss_tot = 0\r\n",
    "ss_res = 0\r\n",
    "for i in range(n):\r\n",
    "    y_pred = c + m * X[i]\r\n",
    "    ss_tot += round((Y[i] - mean_y) ** 2,digits)\r\n",
    "    ss_res += round((Y[i] - y_pred) ** 2,digits)\r\n",
    "r2 = 1 - (ss_res/ss_tot)\r\n",
    "print(\"R2 Score\")\r\n",
    "print(r2)\r\n",
    "\r\n",
    "plt.plot(X,Y)\r\n",
    "plt.plot(X,m*X + c)\r\n"
   ],
   "outputs": [
    {
     "output_type": "stream",
     "name": "stdout",
     "text": [
      "means :\n",
      "X =  2.5\n",
      "Y =  5.5\n",
      "num =  +(1 - 2.5)*(3 - 5.5)+(2 - 2.5)*(5 - 5.5)+(3 - 2.5)*(6 - 5.5)+(4 - 2.5)*(8 - 5.5) = 8.0\n",
      "dem =   + (1 - 2.5)**2 + (2 - 2.5)**2 + (3 - 2.5)**2 + (4 - 2.5)**2 = 5.0\n",
      "m = 8.0/5.0  =  1.6\n",
      "c =  5.5 - 1.6 * 2.5  =  1.5\n",
      "Coefficients\n",
      "1.6 1.5\n",
      "R2 Score\n",
      "0.9846153846153847\n"
     ]
    },
    {
     "output_type": "execute_result",
     "data": {
      "text/plain": [
       "[<matplotlib.lines.Line2D at 0x1db0c6cce20>]"
      ]
     },
     "metadata": {},
     "execution_count": 12
    },
    {
     "output_type": "display_data",
     "data": {
      "text/plain": [
       "<Figure size 432x288 with 1 Axes>"
      ],
      "image/png": "[encoded data removed]"
     },
     "metadata": {
      "needs_background": "light"
     }
    }
   ],
   "metadata": {}
  }
 ],
 "metadata": {
  "orig_nbformat": 4,
  "language_info": {
   "name": "python",
   "version": "3.8.10",
   "mimetype": "text/x-python",
   "codemirror_mode": {
    "name": "ipython",
    "version": 3
   },
   "pygments_lexer": "ipython3",
   "nbconvert_exporter": "python",
   "file_extension": ".py"
  },
  "kernelspec": {
   "name": "python3",
   "display_name": "Python 3.8.10 64-bit ('base': conda)"
  },
  "interpreter": {
   "hash": "6d4093bf0d82cf9d7cbff82fec796d9e3de98a5c49021a907317f555ca0caf40"
  }
 },
 "nbformat": 4,
 "nbformat_minor": 2
}