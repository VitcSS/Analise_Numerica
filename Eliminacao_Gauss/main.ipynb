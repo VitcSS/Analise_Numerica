{
 "metadata": {
  "language_info": {
   "codemirror_mode": {
    "name": "ipython",
    "version": 3
   },
   "file_extension": ".py",
   "mimetype": "text/x-python",
   "name": "python",
   "nbconvert_exporter": "python",
   "pygments_lexer": "ipython3",
   "version": "3.8.5-final"
  },
  "orig_nbformat": 2,
  "kernelspec": {
   "name": "python3",
   "display_name": "Python 3.8.5 64-bit (conda)",
   "metadata": {
    "interpreter": {
     "hash": "6d4093bf0d82cf9d7cbff82fec796d9e3de98a5c49021a907317f555ca0caf40"
    }
   }
  }
 },
 "nbformat": 4,
 "nbformat_minor": 2,
 "cells": [
  {
   "cell_type": "code",
   "execution_count": 7,
   "metadata": {},
   "outputs": [],
   "source": [
    "# Import useful libs:\n",
    "import numpy as np \n",
    "import sys"
   ]
  },
  {
   "cell_type": "code",
   "execution_count": 8,
   "metadata": {},
   "outputs": [
    {
     "output_type": "stream",
     "name": "stdout",
     "text": [
      "Dimensions:\n",
      "3,3\n"
     ]
    }
   ],
   "source": [
    "# Get the array dimensions:\n",
    "print(\"Dimensions:\")\n",
    "dim = int(input(\"Insert number o variables of the system:\"))\n",
    "print(str(dim) + \",\" + str(dim))\n",
    "#Get the round rule for the problem:\n",
    " "
   ]
  },
  {
   "cell_type": "code",
   "execution_count": 9,
   "metadata": {},
   "outputs": [
    {
     "output_type": "stream",
     "name": "stdout",
     "text": [
      "[[0. 0. 0.]\n [0. 0. 0.]\n [0. 0. 0.]]\n[[0.]\n [0.]\n [0.]]\n"
     ]
    }
   ],
   "source": [
    "# Create empty arrays:\n",
    "    # Input arrays:\n",
    "A = np.zeros((dim,dim))\n",
    "B = np.zeros((dim,1))\n",
    "    # Output arrays:\n",
    "U = np.zeros((dim,dim))\n",
    "Y = np.zeros((dim,1))\n",
    "print(A)\n",
    "print(B)"
   ]
  },
  {
   "cell_type": "code",
   "execution_count": 34,
   "metadata": {},
   "outputs": [
    {
     "output_type": "stream",
     "name": "stdout",
     "text": [
      "Fill the weights:\n",
      "Collum 0\n",
      "Collum 1\n",
      "Collum 2\n",
      "A =\n",
      "[[1. 2. 3.]\n",
      " [4. 5. 6.]\n",
      " [7. 8. 9.]]\n",
      "B=\n",
      "[[10.]\n",
      " [11.]\n",
      " [12.]]\n"
     ]
    }
   ],
   "source": [
    "# Fill the arrays:\n",
    "print(\"Fill the weights:\")\n",
    "for i in range(0,dim):\n",
    "    print(\"Collum \"+str(i))\n",
    "    for j in range(0, dim):\n",
    "        A[i][j] = input(\"Enter value in position (\"+str(i)+\",\"+str(j)+\")\")\n",
    "print(\"A =\")\n",
    "print(A)\n",
    "for i in range(0,dim):\n",
    "    B[i][0] = input(\"Enter value in position (\"+str(i)+\",\"+str(0)+\")\")\n",
    "print(\"B=\")\n",
    "print(B)"
   ]
  },
  {
   "cell_type": "code",
   "execution_count": 45,
   "metadata": {},
   "outputs": [
    {
     "output_type": "stream",
     "name": "stdout",
     "text": [
      "The pivot of the current iteration is: 7.0\n[49. 56. 63.]\n[56. 64. 72.]\n[63. 72. 81.]\n[28. 35. 42.]\n[32. 40. 48.]\n[36. 45. 54.]\n[ 7. 14. 21.]\n[ 8. 16. 24.]\n[ 9. 18. 27.]\nThe pivot of the current iteration is: 8.0\n[28. 35. 42.]\n[32. 40. 48.]\n[36. 45. 54.]\n[49. 56. 63.]\n[56. 64. 72.]\n[63. 72. 81.]\n[ 7. 14. 21.]\n[ 8. 16. 24.]\n[ 9. 18. 27.]\nThe pivot of the current iteration is: 9.0\n[28. 35. 42.]\n[32. 40. 48.]\n[36. 45. 54.]\n[ 7. 14. 21.]\n[ 8. 16. 24.]\n[ 9. 18. 27.]\n[49. 56. 63.]\n[56. 64. 72.]\n[63. 72. 81.]\n"
     ]
    }
   ],
   "source": [
    "for j in range(0, dim):\n",
    "    pivot = 0\n",
    "    # Get the pivot for the current iteration:\n",
    "    for i in range(0, dim):\n",
    "        if pivot < A[i][j]:\n",
    "            pivot = A[i][j]\n",
    "    # If pivot isn't in the first line, swap them\n",
    "    print(\"The pivot of the current iteration is: \"+str(pivot))\n",
    "    if pivot != A[j][j]:\n",
    "        for a in range(0, dim):\n",
    "            if pivot == A[a][j]:\n",
    "                A[[a,j]] = A[[j,a]]\n",
    "                B[[a,j]] = B[[j,a]]\n",
    "                # print(A)\n",
    "                # print(B)\n",
    "                break\n",
    "    M = []\n",
    "    # Calculate m:\n",
    "    for a in range(j+1, dim):\n",
    "        if a == j+1:\n",
    "            M = []\n",
    "        if A[a][j] == 0:\n",
    "            M.append = 0\n",
    "        else:\n",
    "            M.append(- A[a][j]/pivot)\n"
   ]
  },
  {
   "cell_type": "code",
   "execution_count": null,
   "metadata": {},
   "outputs": [],
   "source": []
  }
 ]
}