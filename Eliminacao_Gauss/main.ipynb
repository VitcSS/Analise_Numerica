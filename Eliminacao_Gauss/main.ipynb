{
 "metadata": {
  "language_info": {
   "codemirror_mode": {
    "name": "ipython",
    "version": 3
   },
   "file_extension": ".py",
   "mimetype": "text/x-python",
   "name": "python",
   "nbconvert_exporter": "python",
   "pygments_lexer": "ipython3",
   "version": "3.8.5-final"
  },
  "orig_nbformat": 2,
  "kernelspec": {
   "name": "python3",
   "display_name": "Python 3.8.5 64-bit (conda)",
   "metadata": {
    "interpreter": {
     "hash": "6d4093bf0d82cf9d7cbff82fec796d9e3de98a5c49021a907317f555ca0caf40"
    }
   }
  }
 },
 "nbformat": 4,
 "nbformat_minor": 2,
 "cells": [
  {
   "cell_type": "code",
   "execution_count": 7,
   "metadata": {},
   "outputs": [],
   "source": [
    "# Import useful libs:\n",
    "import numpy as np \n",
    "import sys"
   ]
  },
  {
   "cell_type": "code",
   "execution_count": 8,
   "metadata": {},
   "outputs": [
    {
     "output_type": "stream",
     "name": "stdout",
     "text": [
      "Dimensions:\n",
      "3,3\n"
     ]
    }
   ],
   "source": [
    "# Get the array dimensions:\n",
    "print(\"Dimensions:\")\n",
    "dim = int(input(\"Insert number o variables of the system:\"))\n",
    "print(str(dim) + \",\" + str(dim))\n",
    "#Get the round rule for the problem:\n",
    " "
   ]
  },
  {
   "cell_type": "code",
   "execution_count": 83,
   "metadata": {},
   "outputs": [
    {
     "output_type": "stream",
     "name": "stdout",
     "text": [
      "[[0. 0. 0. 0.]\n [0. 0. 0. 0.]\n [0. 0. 0. 0.]]\n"
     ]
    }
   ],
   "source": [
    "# Create empty arrays:\n",
    "    # Input arrays:\n",
    "AB = np.zeros((dim,dim+1))\n",
    "    # Output arrays:\n",
    "print(AB)"
   ]
  },
  {
   "cell_type": "code",
   "execution_count": 124,
   "metadata": {},
   "outputs": [
    {
     "output_type": "stream",
     "name": "stdout",
     "text": [
      "Fill the weights:\n",
      "Collum 0\n",
      "Collum 1\n",
      "Collum 2\n",
      "AB =\n",
      "[[ 1.  2.  3. 10.]\n",
      " [ 4.  5.  6. 11.]\n",
      " [ 7.  8.  9. 12.]]\n"
     ]
    }
   ],
   "source": [
    "# Fill the arrays:\n",
    "print(\"Fill the weights:\")\n",
    "for i in range(0,dim):\n",
    "    print(\"Collum \"+str(i))\n",
    "    for j in range(0, dim):\n",
    "        AB[i][j] = input(\"Enter value in position (\"+str(i)+\",\"+str(j)+\")\")\n",
    "for i in range(0,dim):\n",
    "    AB[i][3] = input(\"Enter value in position (\"+str(i)+\",\"+str(3)+\")\")\n",
    "print(\"AB =\")\n",
    "print(AB)"
   ]
  },
  {
   "cell_type": "code",
   "execution_count": 125,
   "metadata": {},
   "outputs": [
    {
     "output_type": "stream",
     "name": "stdout",
     "text": [
      "4.0\n7.0\nThe pivot for the current iteration is 7.0\nWe have swapped lines. The system now looks like this:\nAB=[[ 7.  8.  9. 12.]\n [ 4.  5.  6. 11.]\n [ 1.  2.  3. 10.]]\n[[ 7.          8.          9.         12.        ]\n [ 0.          0.42857143  0.85714286  4.14285714]\n [ 1.          2.          3.         10.        ]]\n[[ 7.          8.          9.         12.        ]\n [ 0.          0.42857143  0.85714286  4.14285714]\n [ 0.          0.85714286  1.71428571  8.28571429]]\n0.8571428571428572\nThe pivot for the current iteration is 0.8571428571428572\nWe have swapped lines. The system now looks like this:\nAB=[[ 7.          8.          9.         12.        ]\n [ 0.          0.85714286  1.71428571  8.28571429]\n [ 0.          0.42857143  0.85714286  4.14285714]]\n[[ 7.00000000e+00  8.00000000e+00  9.00000000e+00  1.20000000e+01]\n [ 0.00000000e+00  8.57142857e-01  1.71428571e+00  8.28571429e+00]\n [ 0.00000000e+00  0.00000000e+00  1.11022302e-16 -1.77635684e-15]]\nThe pivot for the current iteration is 1.1102230246251565e-16\n"
     ]
    }
   ],
   "source": [
    "# Get pivot value and row:\n",
    "for i in range(0, dim):\n",
    "    pivot = abs(AB[i][i])\n",
    "    pivot_row = i\n",
    "    for j in range(i+1, dim):\n",
    "        if abs(AB[j][i]) > pivot:\n",
    "            pivot = abs(AB[j][i])\n",
    "            print(AB[j][i])\n",
    "            pivot_row = j\n",
    "    print(\"The pivot for the current iteration is \"+str(pivot))\n",
    "# If actual row isn't the same as the pivot row, swap them up\n",
    "    if i != pivot_row:\n",
    "        AB[[i, pivot_row]] = AB[[pivot_row, i]]\n",
    "        pivot_row = i\n",
    "        print(\"We have swapped lines. The system now looks like this:\")\n",
    "        print(\"AB=\" + str(AB))    \n",
    "# Turn all the column of the  rows below in zero:\n",
    "    for k in range(i + 1, dim):\n",
    "        M = -AB[k][i] / AB[i][i]\n",
    "        for j in range(i, dim + 1):\n",
    "            if i == j:\n",
    "                AB[k][j] = 0\n",
    "            else:\n",
    "                AB[k][j] += M * AB[i][j]\n",
    "        print(AB) "
   ]
  },
  {
   "cell_type": "code",
   "execution_count": 130,
   "metadata": {},
   "outputs": [
    {
     "output_type": "stream",
     "name": "stdout",
     "text": [
      "[-25.333333333333332, 41.666666666666664, -16.0]\n"
     ]
    }
   ],
   "source": [
    "# Calculate the value of the x's:\n",
    "x = [0 for i in range(dim)]\n",
    "for i in range(dim - 1, -1, -1):\n",
    "    x[i] = AB[i][dim] / AB[i][i]\n",
    "    for k in range(i - 1, -1, -1):\n",
    "        AB[k][dim] -= AB[k][i] * x[i]\n",
    "print(x)"
   ]
  },
  {
   "cell_type": "code",
   "execution_count": null,
   "metadata": {},
   "outputs": [],
   "source": []
  }
 ]
}