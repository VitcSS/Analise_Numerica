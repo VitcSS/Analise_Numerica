{
 "metadata": {
  "language_info": {
   "codemirror_mode": {
    "name": "ipython",
    "version": 3
   },
   "file_extension": ".py",
   "mimetype": "text/x-python",
   "name": "python",
   "nbconvert_exporter": "python",
   "pygments_lexer": "ipython3",
   "version": "3.8.5"
  },
  "orig_nbformat": 2,
  "kernelspec": {
   "name": "python3",
   "display_name": "Python 3.8.5 64-bit (conda)",
   "metadata": {
    "interpreter": {
     "hash": "6d4093bf0d82cf9d7cbff82fec796d9e3de98a5c49021a907317f555ca0caf40"
    }
   }
  }
 },
 "nbformat": 4,
 "nbformat_minor": 2,
 "cells": [
  {
   "cell_type": "code",
   "execution_count": 1,
   "metadata": {},
   "outputs": [],
   "source": [
    "# Import useful libs:\n",
    "import numpy as np \n",
    "import sys"
   ]
  },
  {
   "cell_type": "code",
   "execution_count": 3,
   "metadata": {},
   "outputs": [
    {
     "output_type": "stream",
     "name": "stdout",
     "text": [
      "Dimensions:\n",
      "3,3\n",
      "Digits after the decimal points:\n",
      "3\n"
     ]
    }
   ],
   "source": [
    "# Get the array dimensions:\n",
    "print(\"Dimensions:\")\n",
    "dim = int(input(\"Insert number o variables of the system:\"))\n",
    "print(str(dim) + \",\" + str(dim))\n",
    "#Get the round rule for the problem:\n",
    "digits = int(input(\"Insert the number of digits after the decimal points:\"))\n",
    "print(\"Digits after the decimal points:\")\n",
    "print(digits)"
   ]
  },
  {
   "cell_type": "code",
   "execution_count": 4,
   "metadata": {},
   "outputs": [
    {
     "output_type": "stream",
     "name": "stdout",
     "text": [
      "[[0. 0. 0. 0.]\n [0. 0. 0. 0.]\n [0. 0. 0. 0.]]\n"
     ]
    }
   ],
   "source": [
    "# Create empty arrays:\n",
    "    # Input arrays:\n",
    "AB = np.zeros((dim,dim+1))\n",
    "    # Output arrays:\n",
    "print(AB)"
   ]
  },
  {
   "cell_type": "code",
   "execution_count": 16,
   "metadata": {},
   "outputs": [
    {
     "output_type": "stream",
     "name": "stdout",
     "text": [
      "Fill the weights:\n",
      "Collum 0\n",
      "Collum 1\n",
      "Collum 2\n",
      "AB =\n",
      "[[  1.   2.  -2. -15.]\n",
      " [  2.   1.  -5. -21.]\n",
      " [  1.  -4.   1.  18.]]\n"
     ]
    }
   ],
   "source": [
    "# Fill the arrays:\n",
    "print(\"Fill the weights:\")\n",
    "for i in range(0,dim):\n",
    "    print(\"Collum \"+str(i))\n",
    "    for j in range(0, dim):\n",
    "        AB[i][j] = float(input(\"Enter value in position (\"+str(i)+\",\"+str(j)+\")\"))\n",
    "for i in range(0,dim):\n",
    "    AB[i][3] = float(input(\"Enter value in position (\"+str(i)+\",\"+str(3)+\")\"))\n",
    "print(\"AB =\")\n",
    "print(AB)"
   ]
  },
  {
   "cell_type": "code",
   "execution_count": 17,
   "metadata": {},
   "outputs": [
    {
     "output_type": "stream",
     "name": "stdout",
     "text": [
      "2.0\nThe pivot for the current iteration is 2.0\nWe have swapped lines. The system now looks like this:\nAB=[[  2.   1.  -5. -21.]\n [  1.   2.  -2. -15.]\n [  1.  -4.   1.  18.]]\n[[  2.    1.   -5.  -21. ]\n [  0.    1.5   0.5  -4.5]\n [  1.   -4.    1.   18. ]]\n[[  2.    1.   -5.  -21. ]\n [  0.    1.5   0.5  -4.5]\n [  0.   -4.5   3.5  28.5]]\n-4.5\nThe pivot for the current iteration is 4.5\nWe have swapped lines. The system now looks like this:\nAB=[[  2.    1.   -5.  -21. ]\n [  0.   -4.5   3.5  28.5]\n [  0.    1.5   0.5  -4.5]]\n[[  2.      1.     -5.    -21.   ]\n [  0.     -4.5     3.5    28.5  ]\n [  0.      0.      1.666   4.99 ]]\nThe pivot for the current iteration is 1.666\n"
     ]
    }
   ],
   "source": [
    "# Get pivot value and row:\n",
    "for i in range(0, dim):\n",
    "    pivot = abs(AB[i][i])\n",
    "    pivot_row = i\n",
    "    for j in range(i+1, dim):\n",
    "        if abs(AB[j][i]) > pivot:\n",
    "            pivot = abs(AB[j][i])\n",
    "            print(AB[j][i])\n",
    "            pivot_row = j\n",
    "    print(\"The pivot for the current iteration is \"+str(pivot))\n",
    "# If actual row isn't the same as the pivot row, swap them up\n",
    "    if i != pivot_row:\n",
    "        AB[[i, pivot_row]] = AB[[pivot_row, i]]\n",
    "        pivot_row = i\n",
    "        print(\"We have swapped lines. The system now looks like this:\")\n",
    "        print(\"AB=\" + str(AB))    \n",
    "# Turn all the column of the  rows below in zero:\n",
    "    for k in range(i + 1, dim):\n",
    "        M = -round(AB[k][i] / AB[i][i],digits)\n",
    "        for j in range(i, dim + 1):\n",
    "            if i == j:\n",
    "                AB[k][j] = 0\n",
    "            else:\n",
    "                AB[k][j] += round(M * AB[i][j], digits)\n",
    "        print(AB) "
   ]
  },
  {
   "cell_type": "code",
   "execution_count": 18,
   "metadata": {},
   "outputs": [
    {
     "output_type": "stream",
     "name": "stdout",
     "text": [
      "x = [-1.011, -4.004, 2.995]\n"
     ]
    }
   ],
   "source": [
    "# Calculate the value of the x's:\n",
    "x = [0 for i in range(dim)]\n",
    "for i in range(dim - 1, -1, -1):\n",
    "    x[i] = round(AB[i][dim] / AB[i][i], digits)\n",
    "    for k in range(i - 1, -1, -1):\n",
    "        AB[k][dim] -= round(AB[k][i] * x[i], digits)\n",
    "print(\"x = \" + str(x))"
   ]
  }
 ]
}