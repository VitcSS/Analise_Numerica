{
 "metadata": {
  "language_info": {
   "codemirror_mode": {
    "name": "ipython",
    "version": 3
   },
   "file_extension": ".py",
   "mimetype": "text/x-python",
   "name": "python",
   "nbconvert_exporter": "python",
   "pygments_lexer": "ipython3",
   "version": "3.8.5"
  },
  "orig_nbformat": 2,
  "kernelspec": {
   "name": "python3",
   "display_name": "Python 3.8.5 64-bit (conda)",
   "metadata": {
    "interpreter": {
     "hash": "6d4093bf0d82cf9d7cbff82fec796d9e3de98a5c49021a907317f555ca0caf40"
    }
   }
  }
 },
 "nbformat": 4,
 "nbformat_minor": 2,
 "cells": [
  {
   "cell_type": "code",
   "execution_count": 1,
   "metadata": {},
   "outputs": [],
   "source": [
    "# Import relevant libs\n",
    "import numpy as np \n",
    "import sys"
   ]
  },
  {
   "cell_type": "code",
   "execution_count": 2,
   "metadata": {},
   "outputs": [
    {
     "output_type": "stream",
     "name": "stdout",
     "text": [
      "Dimensions:\n",
      "3,3\n",
      "Digits after the decimal points:\n",
      "3\n"
     ]
    }
   ],
   "source": [
    "# Get the array dimensions:\n",
    "print(\"Dimensions:\")\n",
    "dim = int(input(\"Insert number o variables of the system:\"))\n",
    "print(str(dim) + \",\" + str(dim))\n",
    "#Get the round rule for the problem:\n",
    "digits = int(input(\"Insert the number of digits after the decimal points:\"))\n",
    "print(\"Digits after the decimal points:\")\n",
    "print(digits)"
   ]
  },
  {
   "cell_type": "code",
   "execution_count": 34,
   "metadata": {},
   "outputs": [
    {
     "output_type": "stream",
     "name": "stdout",
     "text": [
      "P = [[0. 0. 1.]\n",
      " [0. 1. 0.]\n",
      " [1. 0. 0.]]\n",
      "A = [[ 2. -1. -2.]\n",
      " [-4.  6.  3.]\n",
      " [-4. -2.  8.]]\n"
     ]
    }
   ],
   "source": [
    "# Create the necessary arrays, all of the them empty:\n",
    "P = np.zeros((dim,dim))\n",
    "A = np.zeros((dim,dim))\n",
    "L = np.zeros((dim,dim))\n",
    "U = np.zeros((dim,dim))\n",
    "# Fill the P and A arrays:\n",
    "for i in range(0, dim):\n",
    "    P[i][i] = 1\n",
    "P = np.rot90(P,1,(0,1))\n",
    "print(\"P = \" + str(P))\n",
    "for i in range(0, dim):\n",
    "    for j in range(0,dim):\n",
    "        A[i][j] = float(input(\"Enter value in position (\"+str(i)+\",\"+str(j)+\")\"))\n",
    "print(\"A = \" + str(A))"
   ]
  },
  {
   "cell_type": "code",
   "execution_count": 36,
   "metadata": {},
   "outputs": [
    {
     "output_type": "stream",
     "name": "stdout",
     "text": [
      "The sum of L[i][j]*U[j][k] is defined by:\n = 0\nU[0][0] = A[0][0] - sum = 2.0\nThe sum of L[i][j]*U[j][k] is defined by:\n = 0\nU[0][1] = A[0][1] - sum = -1.0\nThe sum of L[i][j]*U[j][k] is defined by:\n = 0\nU[0][2] = A[0][2] - sum = -2.0\nU=\n[[ 2. -1. -2.]\n [ 0.  0.  0.]\n [ 0.  0.  0.]]\nL=\n[[1. 0. 0.]\n [0. 0. 0.]\n [0. 0. 0.]]\nThe sum of L[i][j]*U[j][k] is defined by:\n = 0\nL[1][0] = (A[0][1] - sum)/U[0][0]= -2.0\nU=\n[[ 2. -1. -2.]\n [ 0.  0.  0.]\n [ 0.  0.  0.]]\nL=\n[[ 1.  0.  0.]\n [-2.  0.  0.]\n [ 0.  0.  0.]]\nThe sum of L[i][j]*U[j][k] is defined by:\n = 0\nL[2][0] = (A[0][2] - sum)/U[0][0]= -2.0\nU=\n[[ 2. -1. -2.]\n [ 0.  0.  0.]\n [ 0.  0.  0.]]\nL=\n[[ 1.  0.  0.]\n [-2.  0.  0.]\n [-2.  0.  0.]]\nThe sum of L[i][j]*U[j][k] is defined by:\n(-2.0*-1.0) = 2.0\nU[1][1] = A[1][1] - sum = 4.0\nThe sum of L[i][j]*U[j][k] is defined by:\n(-2.0*-2.0) = 4.0\nU[1][2] = A[1][2] - sum = -1.0\nU=\n[[ 2. -1. -2.]\n [ 0.  4. -1.]\n [ 0.  0.  0.]]\nL=\n[[ 1.  0.  0.]\n [-2.  1.  0.]\n [-2.  0.  0.]]\nThe sum of L[i][j]*U[j][k] is defined by:\n(-2.0*-2.0) = 2.0\nL[2][1] = (A[1][2] - sum)/U[1][1]= -1.0\nU=\n[[ 2. -1. -2.]\n [ 0.  4. -1.]\n [ 0.  0.  0.]]\nL=\n[[ 1.  0.  0.]\n [-2.  1.  0.]\n [-2. -1.  0.]]\nThe sum of L[i][j]*U[j][k] is defined by:\n(-2.0*-2.0)+(-1.0*-1.0) = 5.0\nU[2][2] = A[2][2] - sum = 3.0\nU=\n[[ 2. -1. -2.]\n [ 0.  4. -1.]\n [ 0.  0.  3.]]\nL=\n[[ 1.  0.  0.]\n [-2.  1.  0.]\n [-2. -1.  1.]]\n"
     ]
    }
   ],
   "source": [
    "for i in range(dim):\n",
    " \n",
    "        # Upper Triangular\n",
    "        for k in range(i, dim):\n",
    "            operation_literal = \"\"\n",
    "            # Summation of L(i, j) * U(j, k)\n",
    "            sum = 0\n",
    "            for j in range(i):\n",
    "                sum += round(L[i][j] * U[j][k],digits)\n",
    "                operation_literal += \"(\"+str(L[i][j])+\"*\"+str(U[j][k])+\")\"\n",
    "                if j != i-1:\n",
    "                    operation_literal += \"+\"\n",
    "            print(\"The sum of L[i][j]*U[j][k] is defined by:\")\n",
    "            print(operation_literal + \" = \" + str(sum))\n",
    "            # Evaluating U(i, k)\n",
    "            U[i][k] = A[i][k] - sum\n",
    "            print(\"U[\" + str(i) + \"][\" + str(k) + \"] = A[\"+str(i)+\"][\"+str(k)+\"] - sum = \" + str(U[i][k]))\n",
    "        # Lower Triangular\n",
    "        for k in range(i, dim):\n",
    "            if (i == k):\n",
    "                L[i][i] = 1  # Diagonal as 1\n",
    "            else:\n",
    " \n",
    "                # Summation of L(k, j) * U(j, i)\n",
    "                sum = 0\n",
    "                operation_literal = \"\"\n",
    "                for j in range(i):\n",
    "                    sum += round(L[k][j] * U[j][i], digits)\n",
    "                    operation_literal += \"(\"+str(L[i][j])+\"*\"+str(U[j][k])+\")\"\n",
    "                    if j != i-1:\n",
    "                        operation_literal += \"+\"\n",
    "                print(\"The sum of L[i][j]*U[j][k] is defined by:\")\n",
    "                print(operation_literal + \" = \" + str(sum))\n",
    "                # Evaluating L(k, i)\n",
    "                L[k][i] = round(round(A[k][i] - sum, digits) / U[i][i], digits)\n",
    "                print(\"L[\" + str(k) + \"][\" + str(i) + \"] = (A[\"+str(i)+\"][\"+str(k)+\"] - sum)/U[\"+str(i)+\"][\"+str(i)+\"]= \" + str(L[k][i]))\n",
    "            print(\"U=\")\n",
    "            print(U)\n",
    "            print(\"L=\")\n",
    "            print(L)\n",
    "        \n"
   ]
  },
  {
   "cell_type": "code",
   "execution_count": 37,
   "metadata": {},
   "outputs": [
    {
     "output_type": "stream",
     "name": "stdout",
     "text": [
      "Lower Triangular\t\tUpper Triangular\n1.0\t0.0\t0.0\t\t2.0\t-1.0\t-2.0\t\n-2.0\t1.0\t0.0\t\t0.0\t4.0\t-1.0\t\n-2.0\t-1.0\t1.0\t\t0.0\t0.0\t3.0\t\n"
     ]
    }
   ],
   "source": [
    " # setw is for displaying nicely\n",
    "print(\"Lower Triangular\\t\\tUpper Triangular\")\n",
    "\n",
    "# Displaying the result :\n",
    "for i in range(dim):\n",
    "\n",
    "    # Lower\n",
    "    for j in range(dim):\n",
    "        print(L[i][j], end=\"\\t\")\n",
    "    print(\"\", end=\"\\t\")\n",
    "\n",
    "    # Upper\n",
    "    for j in range(dim):\n",
    "        print(U[i][j], end=\"\\t\")\n",
    "    print(\"\")"
   ]
  },
  {
   "cell_type": "code",
   "execution_count": null,
   "metadata": {},
   "outputs": [],
   "source": []
  }
 ]
}