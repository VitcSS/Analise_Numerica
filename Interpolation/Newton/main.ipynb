{
 "cells": [
  {
   "cell_type": "code",
   "execution_count": 24,
   "source": [
    "import matplotlib.pyplot as plt\r\n",
    "import numpy as np"
   ],
   "outputs": [],
   "metadata": {}
  },
  {
   "cell_type": "code",
   "execution_count": 73,
   "source": [
    "\r\n",
    "X=[-1,0,1,2,3,4,5]\r\n",
    "Y=[-20,-12,1,15,4,21,41]\r\n",
    "digits = 3\r\n",
    "def div_diffs(x,y):\r\n",
    "    n = len(x)\r\n",
    "    A = np.zeros([n,n])\r\n",
    "    A[:,0] = y\r\n",
    "    for j in range(1,n):\r\n",
    "        for i in range(n-j):\r\n",
    "            A[i][j] = round((A[i+1][j-1] - A[i][j-1]) / (x[i+j]-x[i]),digits)\r\n",
    "            ops = \"(\"+str(A[i+1][j-1]) + \"-\" +  str(A[i][j-1])+\")/(\"+str(x[i])+\"-\"+str(x[i-j])+\") = \"+str(A[i][j])\r\n",
    "            print(ops)\r\n",
    "    print(\"A = \",A[0,:])\r\n",
    "    return A[0,:]\r\n",
    "a_n = div_diffs(X,Y)\r\n",
    "\r\n",
    "def newton(a_n,x,x_c):\r\n",
    "    p = np.ones(len(x))\r\n",
    "    for i in range(len(x)):\r\n",
    "        for j in range(0,i):\r\n",
    "            if i == 0:\r\n",
    "                p[i] = 1\r\n",
    "                break\r\n",
    "            else:\r\n",
    "                p[i] *= (x_c -x[j])\r\n",
    "    print(\"P_n = \",p)\r\n",
    "    print(\"y_c = \",np.dot(a_n,p.T))\r\n",
    "newton(a_n,X,-1)"
   ],
   "outputs": [
    {
     "output_type": "stream",
     "name": "stdout",
     "text": [
      "(-12.0--20.0)/(-1-5) = 8.0\n",
      "(1.0--12.0)/(0--1) = 13.0\n",
      "(15.0-1.0)/(1-0) = 14.0\n",
      "(4.0-15.0)/(2-1) = -11.0\n",
      "(21.0-4.0)/(3-2) = 17.0\n",
      "(41.0-21.0)/(4-3) = 20.0\n",
      "(13.0-8.0)/(-1-4) = 2.5\n",
      "(14.0-13.0)/(0-5) = 0.5\n",
      "(-11.0-14.0)/(1--1) = -12.5\n",
      "(17.0--11.0)/(2-0) = 14.0\n",
      "(20.0-17.0)/(3-1) = 1.5\n",
      "(0.5-2.5)/(-1-3) = -0.667\n",
      "(-12.5-0.5)/(0-4) = -4.333\n",
      "(14.0--12.5)/(1-5) = 8.833\n",
      "(1.5-14.0)/(2--1) = -4.167\n",
      "(-4.333--0.667)/(-1-2) = -0.917\n",
      "(8.833--4.333)/(0-3) = 3.292\n",
      "(-4.167-8.833)/(1-4) = -3.25\n",
      "(3.292--0.917)/(-1-1) = 0.842\n",
      "(-3.25-3.292)/(0-2) = -1.308\n",
      "(-1.308-0.842)/(-1-0) = -0.358\n",
      "A =  [-20.      8.      2.5    -0.667  -0.917   0.842  -0.358]\n",
      "P_n =  [ 1.  0. -0.  0. -0.  0. -0.]\n",
      "-20.0\n"
     ]
    }
   ],
   "metadata": {}
  }
 ],
 "metadata": {
  "orig_nbformat": 4,
  "language_info": {
   "name": "python",
   "version": "3.8.10",
   "mimetype": "text/x-python",
   "codemirror_mode": {
    "name": "ipython",
    "version": 3
   },
   "pygments_lexer": "ipython3",
   "nbconvert_exporter": "python",
   "file_extension": ".py"
  },
  "kernelspec": {
   "name": "python3",
   "display_name": "Python 3.8.10 64-bit ('base': conda)"
  },
  "interpreter": {
   "hash": "6d4093bf0d82cf9d7cbff82fec796d9e3de98a5c49021a907317f555ca0caf40"
  }
 },
 "nbformat": 4,
 "nbformat_minor": 2
}