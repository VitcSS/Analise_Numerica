{
 "cells": [
  {
   "cell_type": "code",
   "execution_count": 2,
   "source": [
    "import matplotlib.pyplot as plt\r\n",
    "import numpy as np"
   ],
   "outputs": [],
   "metadata": {}
  },
  {
   "cell_type": "code",
   "execution_count": 5,
   "source": [
    "\r\n",
    "X=[5,6,7]\r\n",
    "Y=[-4.528,4.588,12.296]\r\n",
    "digits = 3\r\n",
    "def div_diffs(x,y):\r\n",
    "    n = len(x)\r\n",
    "    A = np.zeros([n,n])\r\n",
    "    A[:,0] = y\r\n",
    "    for j in range(1,n):\r\n",
    "        for i in range(n-j):\r\n",
    "            A[i][j] = round((A[i+1][j-1] - A[i][j-1]) / (x[i+j]-x[i]),digits)\r\n",
    "            ops = \"(\"+str(A[i+1][j-1]) + \"-\" +  str(A[i][j-1])+\")/(\"+str(x[i])+\"-\"+str(x[i-j])+\") = \"+str(A[i][j])\r\n",
    "            print(ops)\r\n",
    "    print(\"A = \",A)\r\n",
    "    return A[0,:]\r\n",
    "a_n = div_diffs(X,Y)\r\n",
    "\r\n",
    "def newton(a_n,x,x_c):\r\n",
    "    p = np.ones(len(x))\r\n",
    "    for i in range(len(x)):\r\n",
    "        for j in range(0,i):\r\n",
    "            if i == 0:\r\n",
    "                p[i] = 1\r\n",
    "                break\r\n",
    "            else:\r\n",
    "                p[i] *= (x_c -x[j])\r\n",
    "    print(\"P_n = \",p)\r\n",
    "    print(\"y_c = \",np.dot(a_n,p.T))\r\n",
    "newton(a_n,X,5.7)"
   ],
   "outputs": [
    {
     "output_type": "stream",
     "name": "stdout",
     "text": [
      "(4.588--4.528)/(5-7) = 9.116\n",
      "(12.296-4.588)/(6-5) = 7.708\n",
      "(7.708-9.116)/(5-6) = -0.704\n",
      "A =  [[-4.528  9.116 -0.704]\n",
      " [ 4.588  7.708  0.   ]\n",
      " [12.296  0.     0.   ]]\n",
      "P_n =  [ 1.    0.7  -0.21]\n",
      "y_c =  2.0010400000000015\n"
     ]
    }
   ],
   "metadata": {}
  }
 ],
 "metadata": {
  "orig_nbformat": 4,
  "language_info": {
   "name": "python",
   "version": "3.8.10",
   "mimetype": "text/x-python",
   "codemirror_mode": {
    "name": "ipython",
    "version": 3
   },
   "pygments_lexer": "ipython3",
   "nbconvert_exporter": "python",
   "file_extension": ".py"
  },
  "kernelspec": {
   "name": "python3",
   "display_name": "Python 3.8.10 64-bit ('base': conda)"
  },
  "interpreter": {
   "hash": "6d4093bf0d82cf9d7cbff82fec796d9e3de98a5c49021a907317f555ca0caf40"
  }
 },
 "nbformat": 4,
 "nbformat_minor": 2
}