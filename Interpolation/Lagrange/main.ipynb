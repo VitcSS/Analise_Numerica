{
 "cells": [
  {
   "cell_type": "code",
   "execution_count": 1,
   "source": [
    "import matplotlib.pyplot as plt\r\n",
    "import numpy as np"
   ],
   "outputs": [],
   "metadata": {}
  },
  {
   "cell_type": "code",
   "execution_count": 5,
   "source": [
    "#Insert the degree of the desired output polynomial and the values\r\n",
    "degree = 3\r\n",
    "x_c = 0.2\r\n",
    "digits = 3\r\n",
    "m = degree + 1\r\n",
    "x = np.array([0.1,0.4,0.8,1.1])\r\n",
    "y = np.array([2.44,4.52,5.75,7.37])\r\n",
    "# for i in range(m):\r\n",
    "#     x[i] = float(input(\"Insert the value of x:\"))\r\n",
    "#     y[i] = float(input(\"Insert the equivalent value of y:\"))\r\n",
    "print(\"x = \",x)\r\n",
    "print(\"y = \",y)\r\n",
    "print(\"Post decimal point digits : \",digits)"
   ],
   "outputs": [
    {
     "output_type": "error",
     "ename": "TypeError",
     "evalue": "'float' object cannot be interpreted as an integer",
     "traceback": [
      "\u001b[1;31m---------------------------------------------------------------------------\u001b[0m",
      "\u001b[1;31mTypeError\u001b[0m                                 Traceback (most recent call last)",
      "\u001b[1;32m<ipython-input-5-db5151d7a1dc>\u001b[0m in \u001b[0;36m<module>\u001b[1;34m\u001b[0m\n\u001b[0;32m      4\u001b[0m \u001b[0mdigits\u001b[0m \u001b[1;33m=\u001b[0m \u001b[1;36m3\u001b[0m\u001b[1;33m\u001b[0m\u001b[1;33m\u001b[0m\u001b[0m\n\u001b[0;32m      5\u001b[0m \u001b[0mm\u001b[0m \u001b[1;33m=\u001b[0m \u001b[0mdegree\u001b[0m \u001b[1;33m+\u001b[0m \u001b[1;36m1\u001b[0m\u001b[1;33m\u001b[0m\u001b[1;33m\u001b[0m\u001b[0m\n\u001b[1;32m----> 6\u001b[1;33m \u001b[0mx\u001b[0m \u001b[1;33m=\u001b[0m \u001b[0mnp\u001b[0m\u001b[1;33m.\u001b[0m\u001b[0mzeros\u001b[0m\u001b[1;33m(\u001b[0m\u001b[1;33m[\u001b[0m\u001b[1;36m0.1\u001b[0m\u001b[1;33m,\u001b[0m\u001b[1;36m0.4\u001b[0m\u001b[1;33m,\u001b[0m\u001b[1;36m0.8\u001b[0m\u001b[1;33m,\u001b[0m\u001b[1;36m1.1\u001b[0m\u001b[1;33m]\u001b[0m\u001b[1;33m)\u001b[0m\u001b[1;33m\u001b[0m\u001b[1;33m\u001b[0m\u001b[0m\n\u001b[0m\u001b[0;32m      7\u001b[0m \u001b[0my\u001b[0m \u001b[1;33m=\u001b[0m \u001b[0mnp\u001b[0m\u001b[1;33m.\u001b[0m\u001b[0mzeros\u001b[0m\u001b[1;33m(\u001b[0m\u001b[1;33m[\u001b[0m\u001b[1;36m2.44\u001b[0m\u001b[1;33m,\u001b[0m\u001b[1;36m4.52\u001b[0m\u001b[1;33m,\u001b[0m\u001b[1;36m5.75\u001b[0m\u001b[1;33m,\u001b[0m\u001b[1;36m7.37\u001b[0m\u001b[1;33m]\u001b[0m\u001b[1;33m)\u001b[0m\u001b[1;33m\u001b[0m\u001b[1;33m\u001b[0m\u001b[0m\n\u001b[0;32m      8\u001b[0m \u001b[1;31m# for i in range(m):\u001b[0m\u001b[1;33m\u001b[0m\u001b[1;33m\u001b[0m\u001b[1;33m\u001b[0m\u001b[0m\n",
      "\u001b[1;31mTypeError\u001b[0m: 'float' object cannot be interpreted as an integer"
     ]
    }
   ],
   "metadata": {}
  },
  {
   "cell_type": "code",
   "execution_count": 54,
   "source": [
    "coefs = []\r\n",
    "print(\"Coeffs:\")\r\n",
    "for x_i, y_i in zip(x,y):\r\n",
    "    aux = round(np.prod((x_c - x[x != x_i])/(x_i - x[x != x_i])),digits)\r\n",
    "    coefs.append(aux)\r\n",
    "coefs = np.array(coefs)\r\n",
    "for idx, coef in enumerate(coefs):\r\n",
    "    print(\"P_\",idx,\"(\",x_c,\") = \", coef)\r\n",
    "y_c= np.dot(coefs,y.T)\r\n",
    "print(\"f(\",x_c,\") = \",y_c)\r\n"
   ],
   "outputs": [
    {
     "output_type": "stream",
     "name": "stdout",
     "text": [
      "Coeffs:\n",
      "P_ 0 ( 3 ) =  0.4\n",
      "P_ 1 ( 3 ) =  -1.5\n",
      "P_ 2 ( 3 ) =  2.0\n",
      "P_ 3 ( 3 ) =  0.1\n",
      "35.0\n"
     ]
    }
   ],
   "metadata": {}
  }
 ],
 "metadata": {
  "orig_nbformat": 4,
  "language_info": {
   "name": "python",
   "version": "3.8.10",
   "mimetype": "text/x-python",
   "codemirror_mode": {
    "name": "ipython",
    "version": 3
   },
   "pygments_lexer": "ipython3",
   "nbconvert_exporter": "python",
   "file_extension": ".py"
  },
  "kernelspec": {
   "name": "python3",
   "display_name": "Python 3.8.10 64-bit ('base': conda)"
  },
  "interpreter": {
   "hash": "6d4093bf0d82cf9d7cbff82fec796d9e3de98a5c49021a907317f555ca0caf40"
  }
 },
 "nbformat": 4,
 "nbformat_minor": 2
}