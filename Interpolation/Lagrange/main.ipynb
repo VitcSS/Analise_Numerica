{
 "cells": [
  {
   "cell_type": "code",
   "execution_count": 1,
   "source": [
    "import matplotlib.pyplot as plt\r\n",
    "import numpy as np"
   ],
   "outputs": [],
   "metadata": {}
  },
  {
   "cell_type": "code",
   "execution_count": 48,
   "source": [
    "#Insert the degree of the desired output polynomial and the values\r\n",
    "degree = int(input(\"Insert the desired degree of the polynomial : \"))\r\n",
    "x_c = int(input(\"Insert the point of x we want the y to refer to : \"))\r\n",
    "digits = int(input(\"Number of digits allowed after the decimal point :\"))\r\n",
    "m = degree + 1\r\n",
    "x = np.zeros(m)\r\n",
    "y = np.zeros(m)\r\n",
    "for i in range(m):\r\n",
    "    x[i] = float(input(\"Insert the value of x:\"))\r\n",
    "    y[i] = float(input(\"Insert the equivalent value of y:\"))\r\n",
    "print(\"x = \",x)\r\n",
    "print(\"y = \",y)\r\n",
    "print(\"Post decimal point digits : \",digits)"
   ],
   "outputs": [
    {
     "output_type": "stream",
     "name": "stdout",
     "text": [
      "x =  [0. 1. 2. 5.]\n",
      "y =  [  2.   3.  12. 147.]\n"
     ]
    }
   ],
   "metadata": {}
  },
  {
   "cell_type": "code",
   "execution_count": 54,
   "source": [
    "coefs = []\r\n",
    "print(\"Coeffs:\")\r\n",
    "for x_i, y_i in zip(x,y):\r\n",
    "    aux = round(np.prod((x_c - x[x != x_i])/(x_i - x[x != x_i])),digits)\r\n",
    "    coefs.append(aux)\r\n",
    "coefs = np.array(coefs)\r\n",
    "for idx, coef in enumerate(coefs):\r\n",
    "    print(\"P_\",idx,\"(\",x_c,\") = \", coef)\r\n",
    "y_c= np.dot(coefs,y.T)\r\n",
    "print(\"f(\",x_c,\") = \",y_c)\r\n"
   ],
   "outputs": [
    {
     "output_type": "stream",
     "name": "stdout",
     "text": [
      "Coeffs:\n",
      "P_ 0 ( 3 ) =  0.4\n",
      "P_ 1 ( 3 ) =  -1.5\n",
      "P_ 2 ( 3 ) =  2.0\n",
      "P_ 3 ( 3 ) =  0.1\n",
      "35.0\n"
     ]
    }
   ],
   "metadata": {}
  }
 ],
 "metadata": {
  "orig_nbformat": 4,
  "language_info": {
   "name": "python",
   "version": "3.8.10",
   "mimetype": "text/x-python",
   "codemirror_mode": {
    "name": "ipython",
    "version": 3
   },
   "pygments_lexer": "ipython3",
   "nbconvert_exporter": "python",
   "file_extension": ".py"
  },
  "kernelspec": {
   "name": "python3",
   "display_name": "Python 3.8.10 64-bit ('base': conda)"
  },
  "interpreter": {
   "hash": "6d4093bf0d82cf9d7cbff82fec796d9e3de98a5c49021a907317f555ca0caf40"
  }
 },
 "nbformat": 4,
 "nbformat_minor": 2
}