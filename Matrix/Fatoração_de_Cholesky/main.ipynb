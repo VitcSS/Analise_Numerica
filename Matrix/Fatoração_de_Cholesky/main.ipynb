{
 "metadata": {
  "language_info": {
   "codemirror_mode": {
    "name": "ipython",
    "version": 3
   },
   "file_extension": ".py",
   "mimetype": "text/x-python",
   "name": "python",
   "nbconvert_exporter": "python",
   "pygments_lexer": "ipython3",
   "version": "3.8.5"
  },
  "orig_nbformat": 2,
  "kernelspec": {
   "name": "python3",
   "display_name": "Python 3.8.5 64-bit ('base': conda)"
  },
  "interpreter": {
   "hash": "6d4093bf0d82cf9d7cbff82fec796d9e3de98a5c49021a907317f555ca0caf40"
  }
 },
 "nbformat": 4,
 "nbformat_minor": 2,
 "cells": [
  {
   "cell_type": "code",
   "execution_count": 1,
   "metadata": {},
   "outputs": [],
   "source": [
    "# Import useful libs:\n",
    "import numpy as np \n",
    "import sys"
   ]
  },
  {
   "cell_type": "code",
   "execution_count": 2,
   "metadata": {},
   "outputs": [
    {
     "output_type": "stream",
     "name": "stdout",
     "text": [
      "Dimensions:\n",
      "4,4\n",
      "Digits after the decimal points:\n",
      "4\n"
     ]
    }
   ],
   "source": [
    "# Get the array dimensions:\n",
    "print(\"Dimensions:\")\n",
    "dim = int(input(\"Insert number o variables of the system:\"))\n",
    "print(str(dim) + \",\" + str(dim))\n",
    "#Get the round rule for the problem:\n",
    "digits = int(input(\"Insert the number of digits after the decimal points:\"))\n",
    "print(\"Digits after the decimal points:\")\n",
    "print(digits)"
   ]
  },
  {
   "cell_type": "code",
   "execution_count": 3,
   "metadata": {},
   "outputs": [],
   "source": [
    "# Create input and output\n",
    "A = np.zeros((dim,dim))\n",
    "L = np.zeros((dim,dim))"
   ]
  },
  {
   "cell_type": "code",
   "execution_count": 4,
   "metadata": {},
   "outputs": [
    {
     "output_type": "stream",
     "name": "stdout",
     "text": [
      "A = [[ 9.  3.  3.  4.]\n [ 3. 17. 10.  5.]\n [ 3. 10. 11.  4.]\n [ 4.  5.  4. 13.]]\n"
     ]
    }
   ],
   "source": [
    "# Fill the A array:\n",
    "for i in range(0, dim):\n",
    "    for j in range(0,dim):\n",
    "        A[i][j] = float(input(\"Enter value in position (\"+str(i)+\",\"+str(j)+\")\"))\n",
    "print(\"A = \" + str(A))"
   ]
  },
  {
   "cell_type": "code",
   "execution_count": 5,
   "metadata": {},
   "outputs": [
    {
     "output_type": "stream",
     "name": "stdout",
     "text": [
      "[28.82792637 11.11637501  6.57999792  3.47570071]\nTrue\n"
     ]
    }
   ],
   "source": [
    "def symmetric(array):\n",
    "    x,y = array.shape\n",
    "    if x != y:\n",
    "        return False\n",
    "    else:\n",
    "        for i in range (0,x):\n",
    "            for j in range (0,y):\n",
    "                if A[i][j] != A[j][i]:\n",
    "                    return False\n",
    "    return True\n",
    "positive = np.linalg.eigvals(A)\n",
    "print(positive)\n",
    "if np.all(positive > 0) and symmetric(A):\n",
    "    print(\"True\")\n",
    "else:\n",
    "    print(\"False\")"
   ]
  },
  {
   "cell_type": "code",
   "execution_count": 7,
   "metadata": {},
   "outputs": [
    {
     "output_type": "stream",
     "name": "stdout",
     "text": [
      "The sum of (L[j][k])^2 is defined by:\n = 0\nL[0][0] = (A[0][0] - sum1 = 9.0 - 0 = 3.0\nThe sum of L[i][k]*L[j][k] is defined by:\n = 0\nL[1][0] = (A[1][0] - sum)/L[0][0] = (3.0 - 0 = 1.0\nThe sum of (L[j][k])^2 is defined by:\n(1.0)^2+ = 1.0\nL[1][1] = (A[1][1] - sum1 = 17.0 - 1.0 = 4.0\nThe sum of L[i][k]*L[j][k] is defined by:\n = 0\nL[2][0] = (A[2][0] - sum)/L[0][0] = (3.0 - 0 = 1.0\nThe sum of L[i][k]*L[j][k] is defined by:\n(1.0*1.0) = 1.0\nL[2][1] = (A[2][1] - sum)/L[1][1] = (10.0 - 1.0 = 2.25\nThe sum of (L[j][k])^2 is defined by:\n(1.0)^2+(2.25)^2+ = 6.0625\nL[2][2] = (A[2][2] - sum1 = 11.0 - 6.0625 = 2.222\nThe sum of L[i][k]*L[j][k] is defined by:\n = 0\nL[3][0] = (A[3][0] - sum)/L[0][0] = (4.0 - 0 = 1.3333\nThe sum of L[i][k]*L[j][k] is defined by:\n(1.3333*1.0)+ = 1.3333\nL[3][1] = (A[3][1] - sum)/L[1][1] = (5.0 - 1.3333 = 0.9167\nThe sum of L[i][k]*L[j][k] is defined by:\n(1.3333*1.0)(0.9167*2.25) = 3.3958749999999998\nL[3][2] = (A[3][2] - sum)/L[2][2] = (4.0 - 3.3958749999999998 = 0.2719\nThe sum of (L[j][k])^2 is defined by:\n(1.3333)^2+(0.9167)^2+(0.2719)^2+ = 2.6919000000000004\nL[3][3] = (A[3][3] - sum1 = 13.0 - 2.6919000000000004 = 3.2106\n"
     ]
    }
   ],
   "source": [
    "# Decomposing a matrix\n",
    "# into Lower Triangular\n",
    "for i in range(dim):\n",
    "    for j in range(i + 1):\n",
    "        sum1 = 0\n",
    "        # sum1mation for diagnols\n",
    "        if j == i:\n",
    "            operation_literal = \"\"\n",
    "            for k in range(j):\n",
    "                sum1 += round(pow(L[j][k], 2),digits)\n",
    "                operation_literal += \"(\"+str(L[j][k])+\")^2\"\n",
    "                if j != i-1:\n",
    "                    operation_literal += \"+\"\n",
    "            print(\"The sum of (L[j][k])^2 is defined by:\")\n",
    "            print(operation_literal + \" = \" + str(sum1))\n",
    "            L[j][j] = round(np.sqrt(A[j][j] - sum1),digits)\n",
    "            print(\"L[\"+str(j)+\"][\"+str(j)+\"]\"+\" = \"+\"(A[\"+str(j)+\"][\"+str(j)+\"] - sum1 = \"+str(A[j][j])+\" - \"+str(sum1) + \" = \"+str(L[j][j]))\n",
    "        else:\n",
    "            operation_literal = \"\"\n",
    "            # Evaluating L(i, j)\n",
    "            # using L(j, j)\n",
    "            for k in range(j):\n",
    "                sum1 += (L[i][k] *L[j][k])\n",
    "                operation_literal += \"(\"+str(L[i][k])+\"*\"+str(L[j][k])+\")\"\n",
    "                if j != i-1:\n",
    "                    operation_literal += \"+\"\n",
    "            print(\"The sum of L[i][k]*L[j][k] is defined by:\")\n",
    "            print(operation_literal + \" = \" + str(sum1))\n",
    "            if(L[j][j] > 0):\n",
    "                L[i][j] = round(round(A[i][j] - sum1, digits) /L[j][j],digits)\n",
    "                print(\"L[\" + str(i) + \"][\" + str(j) + \"] = (A[\"+str(i)+\"][\"+str(j)+\"] - sum)/L[\"+str(j)+\"][\"+str(j)+\"] = (\" +str(A[i][j])+\" - \"+str(sum1)+\" = \"+str(L[i][j]))"
   ]
  },
  {
   "cell_type": "code",
   "execution_count": 8,
   "metadata": {},
   "outputs": [
    {
     "output_type": "stream",
     "name": "stdout",
     "text": [
      "Lower Triangular\t\tTranspose\n3.0\t0.0\t0.0\t0.0\t\t3.0\t1.0\t1.0\t1.3333\t\n1.0\t4.0\t0.0\t0.0\t\t0.0\t4.0\t2.25\t0.9167\t\n1.0\t2.25\t2.222\t0.0\t\t0.0\t0.0\t2.222\t0.2719\t\n1.3333\t0.9167\t0.2719\t3.2106\t\t0.0\t0.0\t0.0\t3.2106\t\n"
     ]
    }
   ],
   "source": [
    "print(\"Lower Triangular\\t\\tTranspose\")\n",
    "for i in range(dim):\n",
    "        \n",
    "    # Lower Triangular\n",
    "    for j in range(dim):\n",
    "        print(L[i][j], end = \"\\t\")\n",
    "    print(\"\", end = \"\\t\")\n",
    "        \n",
    "    # Transpose of\n",
    "    # Lower Triangular\n",
    "    for j in range(dim):\n",
    "        print(L[j][i], end = \"\\t\")\n",
    "    print(\"\")"
   ]
  },
  {
   "cell_type": "code",
   "execution_count": null,
   "metadata": {},
   "outputs": [],
   "source": []
  }
 ]
}